{
 "cells": [
  {
   "cell_type": "code",
   "execution_count": null,
   "metadata": {},
   "outputs": [],
   "source": [
    "import geopandas as gpd\n",
    "import numpy as np  \n",
    "import pandas as pd  \n",
    "from scipy.spatial.distance import pdist, squareform  \n",
    "import geopandas as gpd  \n",
    "from scipy.sparse import csr_matrix  \n",
    "import matplotlib.pyplot as plt  \n",
    "from scipy.spatial.distance import directed_hausdorff  \n",
    "from scipy.optimize import minimize  \n",
    "  \n",
    "# 读取地理数据    \n",
    "data = pd.read_csv(r\"D:\\大三\\大创\\2020年可燃地区火点数据\\output.csv\") #数据存在问题，还需进一步完善 \n",
    "  \n",
    "# data包含经度、纬度、高程和目标变量  \n",
    "gdf = gpd.GeoDataFrame(data, geometry=gpd.points_from_xy(data.LONGITUDE, data.LATITUDE))  # 将经纬度转换为几何对象  \n",
    "array_2d = data.geometry     \n",
    "dist_mat = gdf.distance(gdf).values  # 计算距离矩阵\n",
    "def weight(dist):  # 定义权重函数  \n",
    "    return 1 / (dist ** 2)  # 使用1/距离的平方作为权重  \n",
    "weights = weight(dist_mat)  # 计算权重矩阵  \n",
    "weights = csr_matrix(weights)  # 将权重矩阵转换为稀疏矩阵格式，以提高计算效率\n",
    "def least_squares(A, b):  # 定义最小二乘法函数，用于求解线性方程组Ax=b的解x=[x1,x2,...,xn]T  \n",
    "    return np.linalg.lstsq(A, b, rcond=None)[0]  # 使用numpy的lstsq函数求解最小二乘解  \n",
    "# alt_mat为高程数据，它是一个对象数组  \n",
    "alt_mat = pd.DataFrame(alt_mat).astype(float)  # 将数据转换为浮点数格式  \n",
    "  \n",
    "# 现在你可以将 alt_mat 转换为稀疏矩阵格式  \n",
    "alt_mat_sparse = csr_matrix(alt_mat)  \n",
    "X = alt_mat_sparse / weights  # 将自变量（高程）除以权重矩阵进行加权处理  \n",
    "y = gdf['BRIGHTNESS'] / weights  # 将目标变量（因变量）除以权重矩阵进行加权处理  \n",
    "beta = least_squares(X, y)  # 进行地理加权回归，求解回归系数beta=[beta1,beta2,...,betan]T\n",
    "plt.scatter(gdf.geometry.x, gdf.geometry.y, c=gdf['BRIGHTNESS'])  # 使用散点图展示目标变量（因变量）与经纬度的关系，c参数为颜色参数，使用目标变量进行颜色编码（此代码假设您的数据集中有名为'target_variable'的列）  \n",
    "plt.show()  # 显示图形窗口，展示散点图结果（根据实际情况调整图形参数和展示方式）  \n"
   ]
  }
 ],
 "metadata": {
  "kernelspec": {
   "display_name": "base",
   "language": "python",
   "name": "python3"
  },
  "language_info": {
   "codemirror_mode": {
    "name": "ipython",
    "version": 3
   },
   "file_extension": ".py",
   "mimetype": "text/x-python",
   "name": "python",
   "nbconvert_exporter": "python",
   "pygments_lexer": "ipython3",
   "version": "3.9.18"
  }
 },
 "nbformat": 4,
 "nbformat_minor": 2
}
