{
 "cells": [
  {
   "cell_type": "code",
   "execution_count": 2,
   "metadata": {},
   "outputs": [],
   "source": [
    "import shapefile\n",
    "import numpy as np\n",
    "import pandas as pd\n",
    "from scipy.spatial.distance import cdist\n",
    "\n",
    "# 读取矢量文件\n",
    "sf = shapefile.Reader(\"D:\\Lenovo\\Desktop\\云南大学\\大创\\复杂地形条件对空间关系构建的影响研究项目\\data\\构建权重矩阵示例数据\\CTCI_墨卡托投影.shp\")\n",
    "\n",
    "# 获取字段X、Y、Z和ID的索引\n",
    "fields = [field[0] for field in sf.fields[1:]]\n",
    "x_index = fields.index('X')\n",
    "y_index = fields.index('Y')\n",
    "z_index = fields.index('Z')\n",
    "id_index = fields.index('ID')\n",
    "\n",
    "# 获取点坐标和ID\n",
    "points = []\n",
    "ids = []\n",
    "for sr in sf.shapeRecords():\n",
    "    points.append((sr.record[x_index], sr.record[y_index], sr.record[z_index]))\n",
    "    ids.append(sr.record[id_index])\n",
    "\n",
    "# 转换为numpy数组\n",
    "data = np.array(points)\n",
    "\n",
    "# 设置距离阈值\n",
    "threshold = 300000  # 单位：米\n",
    "\n",
    "# 计算空间权重矩阵\n",
    "num_points = len(ids)\n",
    "weight_matrix = np.zeros((num_points, num_points))\n",
    "\n",
    "for i in range(num_points):\n",
    "    center_point = data[i]\n",
    "    distances = cdist([center_point], data)[0]\n",
    "    weights = np.exp(-distances**2 / (2 * threshold**2))\n",
    "    weight_matrix[i] = weights\n",
    "\n",
    "# 创建DataFrame并设置索引和列名\n",
    "df_weights = pd.DataFrame(weight_matrix, index=ids, columns=ids)\n",
    "\n",
    "# 保存空间权重矩阵为csv文件\n",
    "df_weights.to_csv('D:\\Lenovo\\Desktop\\云南大学\\大创\\程序代码\\空间权重矩阵测试\\高斯权函数矩阵.csv')"
   ]
  }
 ],
 "metadata": {
  "kernelspec": {
   "display_name": "myenv",
   "language": "python",
   "name": "python3"
  },
  "language_info": {
   "codemirror_mode": {
    "name": "ipython",
    "version": 3
   },
   "file_extension": ".py",
   "mimetype": "text/x-python",
   "name": "python",
   "nbconvert_exporter": "python",
   "pygments_lexer": "ipython3",
   "version": "3.9.18"
  }
 },
 "nbformat": 4,
 "nbformat_minor": 2
}
