{
 "cells": [
  {
   "cell_type": "markdown",
   "metadata": {},
   "source": [
    "## 反距离"
   ]
  },
  {
   "cell_type": "markdown",
   "metadata": {},
   "source": [
    "### 使用示例数据创建反距离权的空间权重矩阵\n",
    "\n"
   ]
  },
  {
   "cell_type": "code",
   "execution_count": 2,
   "metadata": {},
   "outputs": [],
   "source": [
    "import geopandas as gpd\n",
    "import pandas as pd\n",
    "import numpy as np\n",
    "\n",
    "# 读取Shapefile文件\n",
    "shp_path = r'示例数据/新建文件夹/CTCI_墨卡托投影.shp'\n",
    "gdf = gpd.read_file(shp_path)\n",
    "\n",
    "# 提取所需的字段（ID, X, Y, Z）\n",
    "df = gdf[['ID', 'X', 'Y', 'Z']].copy()\n",
    "\n",
    "# 设置距离阈值L0\n",
    "L0 = 100000\n",
    "\n",
    "# 创建一个空的空间权重矩阵\n",
    "spatial_weights = np.zeros((len(df), len(df)))\n",
    "\n",
    "# 计算空间权重矩阵\n",
    "for i in range(len(df)):\n",
    "    for j in range(len(df)):\n",
    "        # 计算两要素间的实际距离\n",
    "        distance = np.sqrt((df['X'][i] - df['X'][j])**2 + (df['Y'][i] - df['Y'][j])**2 + (df['Z'][i] - df['Z'][j])**2)\n",
    "        \n",
    "        # 判断距离是否小于阈值，并应用反距离权重（距离的倒数，加上一个小数值防止除以0错误）\n",
    "        if distance <= L0:\n",
    "            spatial_weights[i, j] = 1 / (distance + 1e-9)\n",
    "\n",
    "# 将空间权重矩阵保存到DataFrame中\n",
    "spatial_weights_df = pd.DataFrame(spatial_weights)\n",
    "\n",
    "# 保存空间权重矩阵为CSV文件\n",
    "output_file_path = r'示例数据/spatial_weights_matrix反距离权.csv'\n",
    "spatial_weights_df.to_csv(output_file_path)"
   ]
  },
  {
   "cell_type": "markdown",
   "metadata": {},
   "source": [
    "### 使用黄淮海平原火点数据，数据过大，不能正常运行，尝试使用kd树以及稀疏矩阵等优化算法，但是运行400分钟仍未得出结果，"
   ]
  },
  {
   "cell_type": "code",
   "execution_count": 4,
   "metadata": {},
   "outputs": [
    {
     "ename": "MemoryError",
     "evalue": "Unable to allocate 141. GiB for an array with shape (137407, 137407) and data type float64",
     "output_type": "error",
     "traceback": [
      "\u001b[1;31m---------------------------------------------------------------------------\u001b[0m",
      "\u001b[1;31mMemoryError\u001b[0m                               Traceback (most recent call last)",
      "Cell \u001b[1;32mIn[4], line 19\u001b[0m\n\u001b[0;32m     16\u001b[0m L0 \u001b[38;5;241m=\u001b[39m \u001b[38;5;241m100000\u001b[39m\n\u001b[0;32m     18\u001b[0m \u001b[38;5;66;03m# 创建一个空的空间权重矩阵\u001b[39;00m\n\u001b[1;32m---> 19\u001b[0m spatial_weights \u001b[38;5;241m=\u001b[39m \u001b[43mnp\u001b[49m\u001b[38;5;241;43m.\u001b[39;49m\u001b[43mzeros\u001b[49m\u001b[43m(\u001b[49m\u001b[43m(\u001b[49m\u001b[38;5;28;43mlen\u001b[39;49m\u001b[43m(\u001b[49m\u001b[43mdf\u001b[49m\u001b[43m)\u001b[49m\u001b[43m,\u001b[49m\u001b[43m \u001b[49m\u001b[38;5;28;43mlen\u001b[39;49m\u001b[43m(\u001b[49m\u001b[43mdf\u001b[49m\u001b[43m)\u001b[49m\u001b[43m)\u001b[49m\u001b[43m)\u001b[49m\n\u001b[0;32m     21\u001b[0m \u001b[38;5;66;03m# 计算空间权重矩阵\u001b[39;00m\n\u001b[0;32m     22\u001b[0m \u001b[38;5;28;01mfor\u001b[39;00m i \u001b[38;5;129;01min\u001b[39;00m ids:\n",
      "\u001b[1;31mMemoryError\u001b[0m: Unable to allocate 141. GiB for an array with shape (137407, 137407) and data type float64"
     ]
    }
   ],
   "source": [
    "import geopandas as gpd\n",
    "import pandas as pd\n",
    "import numpy as np\n",
    "\n",
    "# 读取Shapefile文件\n",
    "shp_path = r'置信度30以上的黄淮海平原区火点_墨卡托/置信度30以上的黄淮海平原火点_墨卡托.shp'\n",
    "gdf = gpd.read_file(shp_path)\n",
    "\n",
    "# 提取所需的字段（X, Y, Z）\n",
    "df = gdf[['X', 'Y', 'Z']].copy()\n",
    "\n",
    "# 创建ID序列\n",
    "ids = range(len(df))\n",
    "\n",
    "# 设置距离阈值L0\n",
    "L0 = 100000\n",
    "\n",
    "# 创建一个空的空间权重矩阵\n",
    "spatial_weights = np.zeros((len(df), len(df)))\n",
    "\n",
    "# 计算空间权重矩阵\n",
    "for i in ids:\n",
    "    for j in ids:\n",
    "        # 计算两要素间的实际距离\n",
    "        distance = np.sqrt((df['X'][i] - df['X'][j])**2 + (df['Y'][i] - df['Y'][j])**2 + (df['Z'][i] - df['Z'][j])**2)\n",
    "        \n",
    "        # 判断距离是否小于阈值，并应用反距离权重（距离的倒数，加上一个小数值防止除以0错误）\n",
    "        if distance <= L0:\n",
    "            spatial_weights[i, j] = 1 / (distance + 1e-9)\n",
    "\n",
    "# 将空间权重矩阵保存到DataFrame中，添加ID作为行索引和列索引\n",
    "spatial_weights_df = pd.DataFrame(spatial_weights, index=ids, columns=ids)\n",
    "\n",
    "# 保存空间权重矩阵为CSV文件\n",
    "output_file_path = r'示例数据/spatial_weights_matrix黄反距离权1.csv'\n",
    "spatial_weights_df.to_csv(output_file_path, header=True)"
   ]
  },
  {
   "cell_type": "markdown",
   "metadata": {},
   "source": [
    "以下是使用kd树的代码，不知道是否正确，因为跑了很长时间，没有结果。\n"
   ]
  },
  {
   "cell_type": "code",
   "execution_count": null,
   "metadata": {},
   "outputs": [],
   "source": [
    "import geopandas as gpd\n",
    "from scipy.spatial import KDTree\n",
    "import pandas as pd\n",
    "from scipy.sparse import csr_matrix\n",
    "import numpy as np\n",
    "\n",
    "# 读取Shapefile文件\n",
    "shp_path = r'置信度30以上的黄淮海平原区火点_墨卡托/置信度30以上的黄淮海平原火点_墨卡托.shp'\n",
    "gdf = gpd.read_file(shp_path)\n",
    "\n",
    "# 确保ID字段存在，如果没有则生成\n",
    "if 'ID' not in gdf.columns:\n",
    "    gdf['ID'] = range(1, len(gdf) + 1)\n",
    "\n",
    "# 提取平面坐标\n",
    "xy_coords = np.vstack([gdf['X'].values, gdf['Y'].values]).T\n",
    "\n",
    "# 使用KDTree建立索引\n",
    "tree = KDTree(xy_coords)\n",
    "\n",
    "# 设置距离衰减参数k（例如：k=2代表平方反比距离权重）\n",
    "k = 2\n",
    "# 设置平滑因子（可选，避免除以零）\n",
    "epsilon = 0.0001\n",
    "\n",
    "# 计算并填充空间权重\n",
    "num_points = len(gdf)\n",
    "spatial_weights = csr_matrix((num_points, num_points), dtype=np.float64)\n",
    "\n",
    "# 遍历所有点\n",
    "for i in range(num_points):\n",
    "    point_i = xy_coords[i]\n",
    "    z_i = gdf.loc[i, 'Z']\n",
    "    \n",
    "    # 找到距离点i一定范围内的邻居点\n",
    "    # 这里假设有一个合理的距离阈值（threshold），可以根据实际情况设置\n",
    "    threshold=10000\n",
    "    neighbors = tree.query_ball_point(point_i, threshold)\n",
    "    \n",
    "    for neighbor_id in neighbors:\n",
    "        point_j = xy_coords[neighbor_id]\n",
    "        z_j = gdf.loc[neighbor_id, 'Z']\n",
    "        \n",
    "        # 计算三维欧氏距离\n",
    "        distance_3d = ((point_i[0]-point_j[0])**2 + (point_i[1]-point_j[1])**2 + (z_i-z_j)**2)**0.5\n",
    "        \n",
    "        # 计算权重\n",
    "        weight = 1 / distance_3d**k + epsilon\n",
    "        \n",
    "        spatial_weights[i, neighbor_id] = weight\n",
    "        spatial_weights[neighbor_id, i] = weight  # 权重是对称的\n",
    "\n",
    "# 将稀疏矩阵转换为DataFrame\n",
    "indices = gdf['ID'].values\n",
    "sparse_weights_df = pd.DataFrame.sparse.from_spmatrix(spatial_weights, index=indices, columns=indices)\n",
    " \n",
    "dense_weights = spatial_weights.todense()\n",
    "\n",
    "# 创建一个 dense DataFrame\n",
    "dense_weights_df = pd.DataFrame(dense_weights, index=indices, columns=indices)\n",
    "\n",
    "# 写入CSV文件\n",
    "output_file_path = r'spatial_weights_matrix1.csv'\n",
    "dense_weights_df.to_csv(output_file_path, header=True, index_label='ID')"
   ]
  },
  {
   "cell_type": "markdown",
   "metadata": {},
   "source": [
    "### 阈值权\n",
    "没有做多调整，\n"
   ]
  },
  {
   "cell_type": "code",
   "execution_count": 1,
   "metadata": {},
   "outputs": [],
   "source": [
    "import geopandas as gpd\n",
    "import pandas as pd\n",
    "import numpy as np\n",
    "\n",
    "# 读取Shapefile文件\n",
    "shp_path = r'示例数据/新建文件夹/CTCI_墨卡托投影.shp'\n",
    "gdf = gpd.read_file(shp_path)\n",
    "\n",
    "# 提取所需的字段（ID, X, Y, Z）\n",
    "df = gdf[['ID', 'X', 'Y', 'Z']].copy()\n",
    "\n",
    "# 设置距离阈值L0\n",
    "L0 = 100000\n",
    "\n",
    "# 创建一个空的空间权重矩阵\n",
    "spatial_weights = np.zeros((len(df), len(df)))\n",
    "\n",
    "# 计算空间权重矩阵\n",
    "for i in range(len(df)):\n",
    "    for j in range(len(df)):\n",
    "        # 计算两要素间的实际距离\n",
    "        distance = np.sqrt((df['X'][i] - df['X'][j])**2 + (df['Y'][i] - df['Y'][j])**2 + (df['Z'][i] - df['Z'][j])**2)\n",
    "        \n",
    "        # 判断距离是否小于阈值\n",
    "        if distance <= L0:\n",
    "            spatial_weights[i, j] = 1\n",
    "\n",
    "# 将空间权重矩阵保存到DataFrame中\n",
    "spatial_weights_df = pd.DataFrame(spatial_weights)\n",
    "\n",
    "# 保存空间权重矩阵为CSV文件\n",
    "output_file_path = r'示例数据/spatial_weights_matrix阈值权.csv'\n",
    "spatial_weights_df.to_csv(output_file_path)\n"
   ]
  }
 ],
 "metadata": {
  "kernelspec": {
   "display_name": "envt",
   "language": "python",
   "name": "python3"
  },
  "language_info": {
   "codemirror_mode": {
    "name": "ipython",
    "version": 3
   },
   "file_extension": ".py",
   "mimetype": "text/x-python",
   "name": "python",
   "nbconvert_exporter": "python",
   "pygments_lexer": "ipython3",
   "version": "3.9.18"
  }
 },
 "nbformat": 4,
 "nbformat_minor": 2
}
