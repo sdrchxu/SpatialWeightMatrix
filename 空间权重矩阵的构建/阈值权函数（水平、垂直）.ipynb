{
 "cells": [
  {
   "cell_type": "code",
   "execution_count": 1,
   "metadata": {},
   "outputs": [],
   "source": [
    "import geopandas as gpd\n",
    "import pandas as pd\n",
    "import numpy as np"
   ]
  },
  {
   "cell_type": "code",
   "execution_count": 2,
   "metadata": {},
   "outputs": [],
   "source": [
    "# 读取Shapefile文件\n",
    "shp_path = r'C:\\Users\\amm\\Desktop\\构建权重矩阵示例数据\\CTCI_墨卡托投影.shp'\n",
    "gdf = gpd.read_file(shp_path)\n"
   ]
  },
  {
   "cell_type": "code",
   "execution_count": 3,
   "metadata": {},
   "outputs": [
    {
     "name": "stdout",
     "output_type": "stream",
     "text": [
      "空间权重矩阵已保存为CSV文件: C:\\Users\\amm\\Desktop\\spatial_weights_matrix2.csv\n"
     ]
    }
   ],
   "source": [
    "# 提取所需的字段（ID, X, Y, Z）\n",
    "df = gdf[['ID', 'X', 'Y', 'Z']].copy()\n",
    "\n",
    "# 设置距离阈值 L0 和 L1\n",
    "L0 = 100000  # 平面距离阈值\n",
    "L1 = 500   # 垂直距离阈值\n",
    "\n",
    "# 创建一个空的空间权重矩阵\n",
    "spatial_weights = np.zeros((len(df), len(df)))\n",
    "\n",
    "# 计算空间权重矩阵\n",
    "for i in range(len(df)):\n",
    "    for j in range(len(df)):\n",
    "        # 计算平面距离\n",
    "        plane_distance = np.sqrt((df['X'][i] - df['X'][j])**2 + (df['Y'][i] - df['Y'][j])**2)\n",
    "        \n",
    "        # 计算垂直距离\n",
    "        vertical_distance = abs(df['Z'][i] - df['Z'][j])\n",
    "        \n",
    "        # 判断距离是否同时小于阈值\n",
    "        if plane_distance <= L0 and vertical_distance <= L1:\n",
    "            spatial_weights[i, j] = 1\n",
    "\n",
    "# 将空间权重矩阵保存到DataFrame中\n",
    "spatial_weights_df = pd.DataFrame(spatial_weights, columns=df['ID'], index=df['ID'])\n",
    "\n",
    "# 保存空间权重矩阵为CSV文件\n",
    "output_file_path = r'C:\\Users\\amm\\Desktop\\spatial_weights_matrix2.csv'\n",
    "spatial_weights_df.to_csv(output_file_path)\n",
    "\n",
    "# 打印结果\n",
    "print(\"空间权重矩阵已保存为CSV文件:\", output_file_path)"
   ]
  }
 ],
 "metadata": {
  "kernelspec": {
   "display_name": "myenv",
   "language": "python",
   "name": "python3"
  },
  "language_info": {
   "codemirror_mode": {
    "name": "ipython",
    "version": 3
   },
   "file_extension": ".py",
   "mimetype": "text/x-python",
   "name": "python",
   "nbconvert_exporter": "python",
   "pygments_lexer": "ipython3",
   "version": "3.9.18"
  }
 },
 "nbformat": 4,
 "nbformat_minor": 2
}
