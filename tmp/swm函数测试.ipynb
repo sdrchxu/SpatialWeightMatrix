{
 "cells": [
  {
   "cell_type": "code",
   "execution_count": 8,
   "metadata": {},
   "outputs": [
    {
     "name": "stdout",
     "output_type": "stream",
     "text": [
      "Help on class SWMWriter in module WeightsUtilities:\n",
      "\n",
      "class SWMWriter(builtins.object)\n",
      " |  SWMWriter(swmFile, masterField, spatialRefName, numObs, rowStandard, inputFC='#', wType=-1, distanceMethod='#', exponent='#', threshold='#', numNeighs='#', inputTable='#', timeField='#', timeType='#', timeValue='#', inputNet='#', impedanceField='#', barrierFC='#', uturnPolicy='#', restrictions='#', useHierarchy='#', searchTolerance='#', addConcept='#', forceFixed=False, hasZ=False)\n",
      " |  \n",
      " |  Methods defined here:\n",
      " |  \n",
      " |  __init__(self, swmFile, masterField, spatialRefName, numObs, rowStandard, inputFC='#', wType=-1, distanceMethod='#', exponent='#', threshold='#', numNeighs='#', inputTable='#', timeField='#', timeType='#', timeValue='#', inputNet='#', impedanceField='#', barrierFC='#', uturnPolicy='#', restrictions='#', useHierarchy='#', searchTolerance='#', addConcept='#', forceFixed=False, hasZ=False)\n",
      " |      Initialize self.  See help(type(self)) for accurate signature.\n",
      " |  \n",
      " |  close(self)\n",
      " |      Closes SWM Output File Pointer.\n",
      " |  \n",
      " |  report(self, show=True, additionalInfo=[])\n",
      " |      Report Spatial Weights Matrix Characteristics.\n",
      " |  \n",
      " |  reportLargeSWM(self)\n",
      " |      Returns a warning id the number of non-zero links > 20 million.\n",
      " |  \n",
      " |  reportNeighInfo(self, failAllNoNeighs=True)\n",
      " |      Reports results from Neighbor Info Class.\n",
      " |  \n",
      " |  reportNoNeighbors(self, failAllNoNeighs=True)\n",
      " |      Report if Any Features Have No Neighbors.\n",
      " |  \n",
      " |  setHeader(self)\n",
      " |  \n",
      " |  ----------------------------------------------------------------------\n",
      " |  Data descriptors defined here:\n",
      " |  \n",
      " |  __dict__\n",
      " |      dictionary for instance variables (if defined)\n",
      " |  \n",
      " |  __weakref__\n",
      " |      list of weak references to the object (if defined)\n",
      "\n"
     ]
    }
   ],
   "source": [
    "\n"
   ]
  },
  {
   "cell_type": "code",
   "execution_count": 2,
   "metadata": {},
   "outputs": [
    {
     "name": "stderr",
     "output_type": "stream",
     "text": [
      "c:\\Users\\Lenovo\\.conda\\envs\\arcgispro-spa-env\\lib\\site-packages\\pysal\\explore\\segregation\\network\\network.py:16: UserWarning: You need pandana and urbanaccess to work with segregation's network module\n",
      "You can install them with  `pip install urbanaccess pandana` or `conda install -c udst pandana urbanaccess`\n",
      "  \"You need pandana and urbanaccess to work with segregation's network module\\n\"\n",
      "c:\\Users\\Lenovo\\.conda\\envs\\arcgispro-spa-env\\lib\\site-packages\\pysal\\model\\spvcm\\abstracts.py:10: UserWarning: The `dill` module is required to use the sqlite backend fully.\n",
      "  from .sqlite import head_to_sql, start_sql\n"
     ]
    }
   ],
   "source": [
    "from pysal.lib import weights\n",
    "import geopandas as gpd\n",
    "import pandas as pd\n",
    "import WeightsUtilities as WU\n",
    "import numpy as np\n",
    "from scipy.spatial.distance import cdist\n",
    "from arcpy.stats import GenerateSpatialWeightsMatrix"
   ]
  },
  {
   "cell_type": "code",
   "execution_count": 4,
   "metadata": {},
   "outputs": [],
   "source": [
    "shp_path=\"F:\\大创数据\\中间产出的数据\\云南省和黄淮海平原已处理好的火点\\黄淮海平原逐月火点\\黄淮海平原已处理好的火点_1月.shp\"\n",
    "swm_path=\"D:\\Lenovo\\Desktop\\云南大学\\大创\\程序代码\\空间权重矩阵测试\\swm测试\\黄淮海平原已处理好的火点_1月.swm\"\n",
    "gdf = gpd.read_file(shp_path)\n",
    "\n",
    "# 提取所需的字段（ID, X, Y, Z）\n",
    "df = gdf[['ID', 'X', 'Y', 'Z']].copy()\n",
    "coordinates = gdf[['X', 'Y', 'Z']].values\n",
    "\n",
    "master_field=\"ID\"\n",
    "spatial_ref_name=\"World_Mercator\"\n",
    "# 设置距离阈值L0\n",
    "L0 = 55000\n",
    "\n",
    "# 计算空间权重矩阵\n",
    "    #计算要素间的距离\n",
    "    # coordinates = df[['X', 'Y']].values\n",
    "distances = cdist(coordinates, coordinates)\n",
    "\n",
    "    # 对得到的距离进行判断并赋值\n",
    "spatial_weights = np.where((distances<=L0)&(distances!=0), 1, 0)\n",
    "\n",
    "# 将空间权重矩阵保存到DataFrame中\n",
    "spatial_weights_df = pd.DataFrame(spatial_weights)\n",
    "\n",
    "\n",
    "# DataFrame转list转换函数\n",
    "def df_to_list(df):\n",
    "    result = []\n",
    "    for idx, row in df.iterrows():\n",
    "        element = idx\n",
    "        neighbors = []\n",
    "        weights = []\n",
    "        for col, val in row.iteritems():\n",
    "            if val != 0:\n",
    "                neighbors.append(col)\n",
    "                weights.append(val)\n",
    "        result.append((element, neighbors, weights))\n",
    "    return result\n",
    "\n",
    "spatial_weights_list=df_to_list(spatial_weights_df)\n",
    "\n",
    "#调用SWMWriter将spatial_weights_list写入swm文件\n",
    "#格式如下：swm1.swm.writeEntry(要素,[邻居要素1,2,3……], [邻居要素的权重1,2,3……])\n",
    "swm1=WU.SWMWriter(swm_path,master_field,spatial_ref_name,len(df),rowStandard=True)\n",
    "for i in spatial_weights_list:\n",
    "    try: \n",
    "        if i[1] is None:\n",
    "            swm1.swm.writeEntry(i[0],[],[])\n",
    "        else:\n",
    "            swm1.swm.writeEntry(i[0],i[1],i[2])\n",
    "    except:\n",
    "        print(\"---------\",i,\"---------\")\n",
    "\n",
    "swm1.close()"
   ]
  }
 ],
 "metadata": {
  "kernelspec": {
   "display_name": "arcgispro-spa-env",
   "language": "python",
   "name": "python3"
  },
  "language_info": {
   "codemirror_mode": {
    "name": "ipython",
    "version": 3
   },
   "file_extension": ".py",
   "mimetype": "text/x-python",
   "name": "python",
   "nbconvert_exporter": "python",
   "pygments_lexer": "ipython3",
   "version": "3.7.9"
  }
 },
 "nbformat": 4,
 "nbformat_minor": 2
}
