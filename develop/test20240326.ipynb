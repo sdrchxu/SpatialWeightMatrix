{
 "cells": [
  {
   "cell_type": "code",
   "execution_count": 6,
   "metadata": {},
   "outputs": [],
   "source": [
    "import sys\n",
    "sys.path.append(\"D:\\Lenovo\\Desktop\\云南大学\\大创\\程序代码\\github仓库\\\\release\")\n",
    "import cal_moran_pysal"
   ]
  },
  {
   "cell_type": "code",
   "execution_count": 7,
   "metadata": {},
   "outputs": [
    {
     "ename": "TypeError",
     "evalue": "global_moran_folder() takes from 4 to 7 positional arguments but 8 were given",
     "output_type": "error",
     "traceback": [
      "\u001b[1;31m---------------------------------------------------------------------------\u001b[0m",
      "\u001b[1;31mTypeError\u001b[0m                                 Traceback (most recent call last)",
      "Cell \u001b[1;32mIn[7], line 10\u001b[0m\n\u001b[0;32m      7\u001b[0m elevation\u001b[38;5;241m=\u001b[39m\u001b[38;5;28;01mTrue\u001b[39;00m\n\u001b[0;32m      8\u001b[0m z_scale_factor\u001b[38;5;241m=\u001b[39m\u001b[38;5;241m6\u001b[39m\n\u001b[1;32m---> 10\u001b[0m \u001b[43mcal_moran_pysal\u001b[49m\u001b[38;5;241;43m.\u001b[39;49m\u001b[43mglobal_moran_folder\u001b[49m\u001b[43m(\u001b[49m\u001b[43mfolder_path\u001b[49m\u001b[43m,\u001b[49m\u001b[43mfield\u001b[49m\u001b[43m,\u001b[49m\u001b[43moutput_folder\u001b[49m\u001b[43m,\u001b[49m\u001b[43mdistance_function\u001b[49m\u001b[43m,\u001b[49m\u001b[43mthreshold\u001b[49m\u001b[43m,\u001b[49m\u001b[43mstd\u001b[49m\u001b[43m,\u001b[49m\u001b[43melevation\u001b[49m\u001b[43m,\u001b[49m\u001b[43mz_scale_factor\u001b[49m\u001b[43m)\u001b[49m\n",
      "\u001b[1;31mTypeError\u001b[0m: global_moran_folder() takes from 4 to 7 positional arguments but 8 were given"
     ]
    }
   ],
   "source": [
    "folder_path=\"F:\\大创数据\\中间产出的数据\\云南省和黄淮海平原已处理好的火点\\黄淮海平原逐月火点\"\n",
    "field='FRP'\n",
    "output_folder=\"D:\\Lenovo\\Desktop\\云南大学\\大创\\程序代码\\空间权重矩阵测试\\反距离权函数结果\\考虑高程2_黄淮海平原逐月_反距离权_FRP_55KM\"\n",
    "distance_function='inverse'\n",
    "threshold=55000\n",
    "std=True\n",
    "elevation=True\n",
    "z_scale_factor=6\n",
    "\n",
    "cal_moran_pysal.global_moran_folder(folder_path,field,output_folder,distance_function,threshold,std,elevation,z_scale_factor)"
   ]
  }
 ],
 "metadata": {
  "kernelspec": {
   "display_name": "spa-env",
   "language": "python",
   "name": "python3"
  },
  "language_info": {
   "codemirror_mode": {
    "name": "ipython",
    "version": 3
   },
   "file_extension": ".py",
   "mimetype": "text/x-python",
   "name": "python",
   "nbconvert_exporter": "python",
   "pygments_lexer": "ipython3",
   "version": "3.9.18"
  }
 },
 "nbformat": 4,
 "nbformat_minor": 2
}
