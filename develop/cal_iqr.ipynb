{
 "cells": [
  {
   "cell_type": "code",
   "execution_count": 8,
   "metadata": {},
   "outputs": [
    {
     "name": "stdout",
     "output_type": "stream",
     "text": [
      "中位数: 30.0\n",
      "四分位距: 24.0\n",
      "平均值: 33.0543407856319\n"
     ]
    }
   ],
   "source": [
    "from osgeo import gdal\n",
    "import numpy as np\n",
    "\n",
    "# 打开遥感影像\n",
    "dataset = gdal.Open(\"F:\\大创数据\\中间产出的数据\\地形高差栅格\\云南省高差\\云南省高差\\高差.tif\")\n",
    "\n",
    "# 读取影像数据\n",
    "band = dataset.GetRasterBand(1)\n",
    "data = band.ReadAsArray()\n",
    "\n",
    "#设置忽略值\n",
    "data=data[data!=32767]\n",
    "\n",
    "# 计算中位数\n",
    "median = np.median(data)\n",
    "\n",
    "# 计算四分位距\n",
    "q1 = np.percentile(data, 25)\n",
    "q3 = np.percentile(data, 75)\n",
    "iqr = q3 - q1\n",
    "\n",
    "#计算平均值\n",
    "mean=np.mean(data)\n",
    "\n",
    "print(\"中位数:\", median)\n",
    "print(\"四分位距:\", iqr)\n",
    "print(\"平均值:\", mean)\n",
    "\n",
    "# 关闭数据集\n",
    "dataset = None\n"
   ]
  }
 ],
 "metadata": {
  "kernelspec": {
   "display_name": "spa-env",
   "language": "python",
   "name": "python3"
  },
  "language_info": {
   "codemirror_mode": {
    "name": "ipython",
    "version": 3
   },
   "file_extension": ".py",
   "mimetype": "text/x-python",
   "name": "python",
   "nbconvert_exporter": "python",
   "pygments_lexer": "ipython3",
   "version": "3.9.18"
  }
 },
 "nbformat": 4,
 "nbformat_minor": 2
}
